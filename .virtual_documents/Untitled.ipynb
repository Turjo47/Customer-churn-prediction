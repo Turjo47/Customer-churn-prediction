import pandas as pd
import numpy as np
import matplotlib.pyplot as plt
import seaborn as sns

from sklearn.preprocessing import LabelEncoder, StandardScaler


df = pd.read_csv("dataset.csv")


print(df.head())


print(df.info())


print(df.describe())


le = LabelEncoder()
for col in df.select_dtypes(include= 'object').columns:
    df[col] = le.fit_transformation(df[col])



