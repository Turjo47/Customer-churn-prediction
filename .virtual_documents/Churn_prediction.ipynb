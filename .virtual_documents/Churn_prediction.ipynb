import pandas as pd
import numpy as np
import matplotlib.pyplot as plt
import seaborn as sns

from sklearn.preprocessing import LabelEncoder, StandardScaler
from sklearn.model_selection import train_test_split, GridSearchCV
from sklearn.linear_model import LogisticRegression
from sklearn.tree import DecisionTreeClassifier
from sklearn.metrics import classification_report, confusion_matrix, accuracy_score


df = pd.read_csv("dataset.csv")


print(df.head())


print(df.info())


print(df.describe())


le = LabelEncoder()
for col in df.select_dtypes(include= 'object').columns:
    df[col] = le.fit_transform(df[col])


df.fillna(df.median(numeric_only=True),inplace = True)


X = df.drop('Churn', axis=1)
y = df['Churn']


X_train, X_test, y_train, y_test = train_test_split(X,y, test_size = 0.2, random_state=42)


scaler = StandardScaler()
X_train = scaler.fit_transform(X_train)
x_test = scaler.transform(X_test)



